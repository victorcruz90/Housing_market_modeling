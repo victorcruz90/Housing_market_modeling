{
 "cells": [
  {
   "cell_type": "code",
   "execution_count": 357,
   "metadata": {},
   "outputs": [],
   "source": [
    "from datetime import date, timedelta\n",
    "import itertools\n",
    "import pandas as pd\n",
    "from selenium import webdriver\n",
    "from selenium.webdriver.chrome.service import Service\n",
    "from selenium.webdriver.common.by import By\n",
    "import time\n",
    "import re"
   ]
  },
  {
   "cell_type": "code",
   "execution_count": 358,
   "metadata": {},
   "outputs": [],
   "source": [
    "class Scraper:\n",
    "    \n",
    "    def __init__(self, url):\n",
    "        #Create the scraper object with some options\n",
    "        self.options = webdriver.ChromeOptions()\n",
    "        self.options.add_argument('user-agent=Mozilla/5.0 (Macintosh; Intel Mac OS X 10_15_7) AppleWebKit/537.36 (KHTML, like Gecko) Chrome/98.0.4758.109 Safari/537.36')\n",
    "        self.options.add_argument('--disable-blink-features=AutomationControlled')\n",
    "        self.options.add_experimental_option(\"excludeSwitches\", [\"enable-automation\"])\n",
    "        self.options.add_experimental_option('useAutomationExtension', False)\n",
    "        self.options.headless = True\n",
    "        self.driver = webdriver.Chrome(service = Service('/Users/victorcruzdefaria/Downloads/chromedriver'), options=self.options)\n",
    "        self.driver.get(url)\n",
    "\n",
    "    def get_details(self):\n",
    "\n",
    "        #access the browser\n",
    "        time.sleep(5)\n",
    "\n",
    "        #get the prices, address and date sold and add to a list\n",
    "        prices = [x.text for x in self.driver.find_elements(By.CLASS_NAME, 'css-9hd67m')]\n",
    "        full_address = [x.text for x in self.driver.find_elements(By.CLASS_NAME, 'css-bqbbuf')]\n",
    "        date_sold = [x.text for x in self.driver.find_elements(By.CLASS_NAME, 'css-1nj9ymt')]\n",
    "        housing_type = [x.text for x in self.driver.find_elements(By.CLASS_NAME, 'css-693528')]\n",
    "        \n",
    "        \n",
    "        #get the size info i.e. # of beds, # of baths, #number of parking\n",
    "        #CHALLENGE: sometimes the size of the house/unit comes after the above metrics, used regex in list comprehension to remove all the strings starting with 3 digits\n",
    "        layout_info = [x.text for x in self.driver.find_elements(By.CLASS_NAME, 'css-1ie6g1l') if not re.search(r\"[m]\", x.text)]\n",
    "        \n",
    "        #Group the layout_info into groups of 3\n",
    "        splitedSize = 3\n",
    "        layout_info = [layout_info[x:x+splitedSize] for x in range(0, len(layout_info), splitedSize)]\n",
    "        \n",
    "        #Group the data together\n",
    "        data = [[e for x in grp for e in (x if isinstance(x, list) else [x])] for grp in zip(full_address,housing_type, date_sold, layout_info, prices, )]\n",
    "        df = pd.DataFrame(data, columns=['address','housing_type', 'sold_date', 'n_beds','n_bath','n_garage', 'prices'])\n",
    "\n",
    "        #close the browser\n",
    "        self.driver.close()\n",
    "        return df"
   ]
  },
  {
   "cell_type": "code",
   "execution_count": 359,
   "metadata": {},
   "outputs": [],
   "source": [
    "def clean_prices(df):\n",
    "    df['prices'] = df['prices'].apply(lambda x: re.sub('[^0-9]+','', x)).astype('int')"
   ]
  },
  {
   "cell_type": "code",
   "execution_count": 360,
   "metadata": {},
   "outputs": [],
   "source": [
    "def cleaning_address(df):\n",
    "    df[['address', 'suburb']] = df['address'].str.split(',', expand=True)\n",
    "    df[['empty','suburb', 'state', 'postcode']] = df['suburb'].str.split(' ', n=3, expand=True)\n",
    "    df['suburb'] = df['suburb'].str.strip()\n",
    "    df['state'] = df['state'].astype('category')\n",
    "    df.drop(labels=['empty'],axis=1, inplace=True)"
   ]
  },
  {
   "cell_type": "code",
   "execution_count": 361,
   "metadata": {},
   "outputs": [],
   "source": [
    "def cleaning_date(df):\n",
    "    df['sold_date'] = df['sold_date'].str.split().apply(lambda x : '/'.join(x[-3:]).lower())\n",
    "    df['sold_date'] = pd.to_datetime(df['sold_date'], dayfirst=True, format=\"%d/%b/%Y\")"
   ]
  },
  {
   "cell_type": "code",
   "execution_count": 362,
   "metadata": {},
   "outputs": [],
   "source": [
    "def cleaning_layout(df):\n",
    "    for i in ['n_beds', 'n_bath', 'n_garage']:\n",
    "        df[i] = df[i].str.split().apply(lambda x: x[0]).astype('int')"
   ]
  },
  {
   "cell_type": "code",
   "execution_count": 363,
   "metadata": {},
   "outputs": [],
   "source": [
    "def cleaning_housing_type(df):\n",
    "    df['housing_type'] = df['housing_type'].str.split('/').apply(lambda x: x[0].strip()).astype('category')"
   ]
  },
  {
   "cell_type": "code",
   "execution_count": 364,
   "metadata": {},
   "outputs": [],
   "source": [
    "class ScraperSuburbs(Scraper):\n",
    "    def __init__(self, url):\n",
    "        super().__init__(url)\n",
    "\n",
    "    def get_details(self):\n",
    "        time.sleep(5)\n",
    "\n",
    "        #get the prices, address and date sold and add to a list\n",
    "        prices = [x.text for x in self.driver.find_elements(By.CLASS_NAME, 'css-9hd67m')]\n",
    "        full_address = [x.text for x in self.driver.find_elements(By.CLASS_NAME, 'css-bqbbuf')]\n",
    "        date_sold = [x.text for x in self.driver.find_elements(By.CLASS_NAME, 'css-1nj9ymt')]\n",
    "        housing_type = [x.text for x in self.driver.find_elements(By.CLASS_NAME, 'css-693528')]\n",
    "        pass\n"
   ]
  },
  {
   "cell_type": "code",
   "execution_count": 3,
   "metadata": {},
   "outputs": [
    {
     "name": "stdout",
     "output_type": "stream",
     "text": [
      "https://www.domain.com.au/sold-listings/?postcode=3168&price=0-5000000&excludepricewithheld=1&page=1\n",
      "https://www.domain.com.au/sold-listings/?postcode=3168&price=0-5000000&excludepricewithheld=1&page=2\n",
      "https://www.domain.com.au/sold-listings/?postcode=3168&price=0-5000000&excludepricewithheld=1&page=3\n",
      "https://www.domain.com.au/sold-listings/?postcode=3168&price=0-5000000&excludepricewithheld=1&page=4\n",
      "https://www.domain.com.au/sold-listings/?postcode=3168&price=0-5000000&excludepricewithheld=1&page=5\n",
      "https://www.domain.com.au/sold-listings/?postcode=3168&price=0-5000000&excludepricewithheld=1&page=6\n",
      "https://www.domain.com.au/sold-listings/?postcode=3168&price=0-5000000&excludepricewithheld=1&page=7\n",
      "https://www.domain.com.au/sold-listings/?postcode=3168&price=0-5000000&excludepricewithheld=1&page=8\n",
      "https://www.domain.com.au/sold-listings/?postcode=3168&price=0-5000000&excludepricewithheld=1&page=9\n",
      "https://www.domain.com.au/sold-listings/?postcode=3168&price=0-5000000&excludepricewithheld=1&page=10\n",
      "https://www.domain.com.au/sold-listings/?postcode=3168&price=0-5000000&excludepricewithheld=1&page=11\n",
      "https://www.domain.com.au/sold-listings/?postcode=3168&price=0-5000000&excludepricewithheld=1&page=12\n",
      "https://www.domain.com.au/sold-listings/?postcode=3168&price=0-5000000&excludepricewithheld=1&page=13\n",
      "https://www.domain.com.au/sold-listings/?postcode=3168&price=0-5000000&excludepricewithheld=1&page=14\n",
      "https://www.domain.com.au/sold-listings/?postcode=3168&price=0-5000000&excludepricewithheld=1&page=15\n",
      "https://www.domain.com.au/sold-listings/?postcode=3168&price=0-5000000&excludepricewithheld=1&page=16\n",
      "https://www.domain.com.au/sold-listings/?postcode=3168&price=0-5000000&excludepricewithheld=1&page=17\n",
      "https://www.domain.com.au/sold-listings/?postcode=3168&price=0-5000000&excludepricewithheld=1&page=18\n",
      "https://www.domain.com.au/sold-listings/?postcode=3168&price=0-5000000&excludepricewithheld=1&page=19\n",
      "https://www.domain.com.au/sold-listings/?postcode=3168&price=0-5000000&excludepricewithheld=1&page=20\n",
      "https://www.domain.com.au/sold-listings/?postcode=3168&price=0-5000000&excludepricewithheld=1&page=21\n",
      "https://www.domain.com.au/sold-listings/?postcode=3168&price=0-5000000&excludepricewithheld=1&page=22\n",
      "https://www.domain.com.au/sold-listings/?postcode=3168&price=0-5000000&excludepricewithheld=1&page=23\n",
      "https://www.domain.com.au/sold-listings/?postcode=3168&price=0-5000000&excludepricewithheld=1&page=24\n",
      "https://www.domain.com.au/sold-listings/?postcode=3168&price=0-5000000&excludepricewithheld=1&page=25\n",
      "https://www.domain.com.au/sold-listings/?postcode=3168&price=0-5000000&excludepricewithheld=1&page=26\n",
      "https://www.domain.com.au/sold-listings/?postcode=3168&price=0-5000000&excludepricewithheld=1&page=27\n",
      "https://www.domain.com.au/sold-listings/?postcode=3168&price=0-5000000&excludepricewithheld=1&page=28\n",
      "https://www.domain.com.au/sold-listings/?postcode=3168&price=0-5000000&excludepricewithheld=1&page=29\n",
      "https://www.domain.com.au/sold-listings/?postcode=3168&price=0-5000000&excludepricewithheld=1&page=30\n"
     ]
    }
   ],
   "source": [
    "def url_generator(number_pages, suburb_postcode = {}):\n",
    "    url_list = []\n",
    "    for i in range(number_pages):\n",
    "        i+= 1\n",
    "        BASE_URL = f'https://www.domain.com.au/sold-listings/?postcode=3168&price=0-5000000&excludepricewithheld=1&page={i}'\n",
    "        url_list.append(BASE_URL)\n",
    "        print(BASE_URL)\n",
    "\n",
    "        options = webdriver.ChromeOptions()\n",
    "        options.add_argument('user-agent=Mozilla/5.0 (Macintosh; Intel Mac OS X 10_15_7) AppleWebKit/537.36 (KHTML, like Gecko) Chrome/98.0.4758.109 Safari/537.36')\n",
    "        options.add_argument('--disable-blink-features=AutomationControlled')\n",
    "        options.add_experimental_option(\"excludeSwitches\", [\"enable-automation\"])\n",
    "        options.add_experimental_option('useAutomationExtension', False)\n",
    "        options.headless = True\n",
    "        driver = webdriver.Chrome(service = Service('/Users/victorcruzdefaria/Downloads/chromedriver'), options=options)\n",
    "        driver.get(BASE_URL)\n",
    "        \n",
    "\n",
    "url_generator(30)"
   ]
  },
  {
   "cell_type": "code",
   "execution_count": 366,
   "metadata": {},
   "outputs": [
    {
     "name": "stdout",
     "output_type": "stream",
     "text": [
      "                    address housing_type  sold_date  n_beds  n_bath  n_garage  \\\n",
      "0    2/31 Shepparson Avenue    Apartment 2022-08-13       2       1         1   \n",
      "1         12/56 Grange Road    Apartment 2022-08-10       1       1         1   \n",
      "2       211/9 Morton Avenue    Apartment 2022-08-09       2       1         1   \n",
      "3       203/3 Morton Avenue    Apartment 2022-08-03       2       1         1   \n",
      "4        19 Tranmere Avenue        House 2022-07-30       4       2         1   \n",
      "5        28 Atkinson Street        House 2022-07-30       4       2         2   \n",
      "6  1001/1060 Dandenong Road    Apartment 2022-07-29       3       2         2   \n",
      "7        5/87 Coorigil Road    Apartment 2022-07-28       1       1         1   \n",
      "8     2/82-84 Coorigil Road    Apartment 2022-07-28       2       1         1   \n",
      "9     9/1214 Dandenong Road    Apartment 2022-07-28       1       1         1   \n",
      "\n",
      "    prices       suburb state postcode  \n",
      "0   742000     CARNEGIE   VIC     3163  \n",
      "1   271000     CARNEGIE   VIC     3163  \n",
      "2   470000     CARNEGIE   VIC     3163  \n",
      "3   441000     CARNEGIE   VIC     3163  \n",
      "4  1670000     CARNEGIE   VIC     3163  \n",
      "5  1398000  MURRUMBEENA   VIC     3163  \n",
      "6   695000     CARNEGIE   VIC     3163  \n",
      "7   340000     CARNEGIE   VIC     3163  \n",
      "8   495050     CARNEGIE   VIC     3163  \n",
      "9   355000  MURRUMBEENA   VIC     3163  \n",
      "<class 'pandas.core.frame.DataFrame'>\n",
      "RangeIndex: 20 entries, 0 to 19\n",
      "Data columns (total 10 columns):\n",
      " #   Column        Non-Null Count  Dtype         \n",
      "---  ------        --------------  -----         \n",
      " 0   address       20 non-null     object        \n",
      " 1   housing_type  20 non-null     category      \n",
      " 2   sold_date     20 non-null     datetime64[ns]\n",
      " 3   n_beds        20 non-null     int64         \n",
      " 4   n_bath        20 non-null     int64         \n",
      " 5   n_garage      20 non-null     int64         \n",
      " 6   prices        20 non-null     int64         \n",
      " 7   suburb        20 non-null     object        \n",
      " 8   state         20 non-null     category      \n",
      " 9   postcode      20 non-null     object        \n",
      "dtypes: category(2), datetime64[ns](1), int64(4), object(3)\n",
      "memory usage: 1.7+ KB\n"
     ]
    }
   ],
   "source": [
    "def main():\n",
    "    URL = 'https://www.domain.com.au/sold-listings/?suburb=carnegie-vic-3163,murrumbeena-vic-3163&excludepricewithheld=1'\n",
    "    web_scraper = Scraper(URL)\n",
    "    df = web_scraper.get_details()\n",
    "    cleaning_address(df)\n",
    "    cleaning_date(df)\n",
    "    cleaning_layout(df)\n",
    "    cleaning_housing_type(df)\n",
    "    clean_prices(df)\n",
    "\n",
    "    print(df.head(10))\n",
    "    df.info()\n",
    "    \n",
    "main()"
   ]
  }
 ],
 "metadata": {
  "kernelspec": {
   "display_name": "Python 3.10.4 ('Stock')",
   "language": "python",
   "name": "python3"
  },
  "language_info": {
   "codemirror_mode": {
    "name": "ipython",
    "version": 3
   },
   "file_extension": ".py",
   "mimetype": "text/x-python",
   "name": "python",
   "nbconvert_exporter": "python",
   "pygments_lexer": "ipython3",
   "version": "3.10.4"
  },
  "orig_nbformat": 4,
  "vscode": {
   "interpreter": {
    "hash": "1e090bb39366b4e31aa2c6f9a4f5a7a56bf23b9e2a11fd6f2681e7f261c753ef"
   }
  }
 },
 "nbformat": 4,
 "nbformat_minor": 2
}
