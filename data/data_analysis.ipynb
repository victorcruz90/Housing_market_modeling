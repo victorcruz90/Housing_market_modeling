{
 "cells": [
  {
   "cell_type": "code",
   "execution_count": null,
   "metadata": {},
   "outputs": [],
   "source": []
  }
 ],
 "metadata": {
  "kernelspec": {
   "display_name": "Python 3.10.4 ('PasswordGenerator')",
   "language": "python",
   "name": "python3"
  },
  "language_info": {
   "name": "python",
   "version": "3.10.4"
  },
  "orig_nbformat": 4,
  "vscode": {
   "interpreter": {
    "hash": "29b9128f116d8d6008b93d5a4b1a0fd042cec3f8f4d07a08c2abf20570947aea"
   }
  }
 },
 "nbformat": 4,
 "nbformat_minor": 2
}
