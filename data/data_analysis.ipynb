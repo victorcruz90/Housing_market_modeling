{
 "cells": [
  {
   "cell_type": "code",
   "execution_count": null,
   "metadata": {},
   "outputs": [],
   "source": [
    "import pandas as pd\n",
    "import matplotlib as plt\n",
    "import seaborn as sns\n",
    "from geopy.geocoders import Nominatim\n",
    "from geopy.extra.rate_limiter import RateLimiter"
   ]
  },
  {
   "cell_type": "code",
   "execution_count": null,
   "metadata": {},
   "outputs": [],
   "source": [
    "df = pd.read_csv('./housing_data.csv', parse_dates=['sold_date'])\n",
    "df = df.drop_duplicates()\n",
    "df = df.dropna()\n",
    "df.info()"
   ]
  },
  {
   "cell_type": "code",
   "execution_count": null,
   "metadata": {},
   "outputs": [],
   "source": [
    "def fix_state(df):\n",
    "    df1 = df.loc[df.state != 'VIC'].copy()\n",
    "    df1['suburb'] = df1['suburb'] + ' ' + df['state']\n",
    "    df1 = df1.drop('state', axis=1)\n",
    "    df1.postcode = df1.postcode.str.strip()\n",
    "    df1[['state', 'postcode']] = df1.postcode.str.split(\" \", expand=True)\n",
    "    return df1\n",
    "\n",
    "df1 = fix_state(df)\n",
    "df1.info()"
   ]
  },
  {
   "cell_type": "code",
   "execution_count": null,
   "metadata": {},
   "outputs": [],
   "source": [
    "df_final = pd.concat([df , df1])\n",
    "df_final = df_final.drop_duplicates(subset='address', keep='last')"
   ]
  },
  {
   "cell_type": "code",
   "execution_count": null,
   "metadata": {},
   "outputs": [],
   "source": [
    "df_final['country'] = 'AUSTRALIA'"
   ]
  },
  {
   "cell_type": "code",
   "execution_count": null,
   "metadata": {},
   "outputs": [],
   "source": [
    "df_final['whole_address'] = df_final[['address', 'suburb', 'state', 'postcode', 'country']].T.agg(', '.join)\n",
    "df_final"
   ]
  },
  {
   "cell_type": "code",
   "execution_count": null,
   "metadata": {},
   "outputs": [],
   "source": [
    "geolocator = Nominatim(user_agent='Mozilla/5.0 (Macintosh; Intel Mac OS X 10_15_7) AppleWebKit/537.36 (KHTML, like Gecko) Chrome/98.0.4758.109 Safari/537.36')\n",
    "\n",
    "geocode = RateLimiter(geolocator.geocode, min_delay_seconds=1)\n",
    "df_final['location'] = df_final['whole_address'].apply(geocode)\n",
    "df_final\n",
    "\n",
    "# df['point'] = df['location'].apply(lambda loc: tuple(loc.point) if loc else None)\n"
   ]
  }
 ],
 "metadata": {
  "kernelspec": {
   "display_name": "Python 3.10.4 ('Stock')",
   "language": "python",
   "name": "python3"
  },
  "language_info": {
   "codemirror_mode": {
    "name": "ipython",
    "version": 3
   },
   "file_extension": ".py",
   "mimetype": "text/x-python",
   "name": "python",
   "nbconvert_exporter": "python",
   "pygments_lexer": "ipython3",
   "version": "3.10.4"
  },
  "orig_nbformat": 4,
  "vscode": {
   "interpreter": {
    "hash": "1e090bb39366b4e31aa2c6f9a4f5a7a56bf23b9e2a11fd6f2681e7f261c753ef"
   }
  }
 },
 "nbformat": 4,
 "nbformat_minor": 2
}
