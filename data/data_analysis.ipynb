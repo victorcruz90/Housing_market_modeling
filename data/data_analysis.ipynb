{
 "cells": [
  {
   "cell_type": "code",
   "execution_count": 130,
   "metadata": {},
   "outputs": [],
   "source": [
    "import pandas as pd"
   ]
  },
  {
   "cell_type": "code",
   "execution_count": 131,
   "metadata": {},
   "outputs": [
    {
     "name": "stdout",
     "output_type": "stream",
     "text": [
      "<class 'pandas.core.frame.DataFrame'>\n",
      "Int64Index: 13334 entries, 0 to 14078\n",
      "Data columns (total 10 columns):\n",
      " #   Column        Non-Null Count  Dtype         \n",
      "---  ------        --------------  -----         \n",
      " 0   address       13334 non-null  object        \n",
      " 1   housing_type  13334 non-null  object        \n",
      " 2   sold_date     13334 non-null  datetime64[ns]\n",
      " 3   n_beds        13334 non-null  object        \n",
      " 4   n_bath        13334 non-null  object        \n",
      " 5   n_garage      13334 non-null  object        \n",
      " 6   prices        13334 non-null  int64         \n",
      " 7   suburb        13334 non-null  object        \n",
      " 8   state         13334 non-null  object        \n",
      " 9   postcode      13334 non-null  object        \n",
      "dtypes: datetime64[ns](1), int64(1), object(8)\n",
      "memory usage: 1.1+ MB\n"
     ]
    }
   ],
   "source": [
    "df = pd.read_csv('./housing_data.csv', parse_dates=['sold_date'])\n",
    "df.drop_duplicates(inplace=True)\n",
    "df.dropna(inplace=True)\n",
    "df.info()"
   ]
  },
  {
   "cell_type": "code",
   "execution_count": 132,
   "metadata": {},
   "outputs": [],
   "source": [
    "def fix_state(df):\n",
    "    df1 = df[df.state != 'VIC'].copy()\n",
    "    df1.dropna(inplace=True)\n",
    "    df1[['state_1', 'postcode']] = df.postcode.str.split(' ', expand=True)\n",
    "    df1['suburb'] = df1['suburb'] + ' ' +  df.state\n",
    "    df1.drop(['state'], inplace=True, axis=1)\n",
    "    df1.rename({'state_1': 'state'}, axis='columns', inplace=True)\n",
    "    return df1\n",
    "\n",
    "df2 = fix_state(df)"
   ]
  },
  {
   "cell_type": "code",
   "execution_count": 133,
   "metadata": {},
   "outputs": [
    {
     "data": {
      "text/plain": [
       "array(['VIC'], dtype=object)"
      ]
     },
     "execution_count": 133,
     "metadata": {},
     "output_type": "execute_result"
    }
   ],
   "source": [
    "df = df.drop([col for col in df.columns if df[col].eq('Salty').any()], axis=1, inplace=True)\n",
    "df_final = pd.concat([df , df2])\n",
    "df_final.state.unique()"
   ]
  }
 ],
 "metadata": {
  "kernelspec": {
   "display_name": "Python 3.10.4 ('Stock')",
   "language": "python",
   "name": "python3"
  },
  "language_info": {
   "codemirror_mode": {
    "name": "ipython",
    "version": 3
   },
   "file_extension": ".py",
   "mimetype": "text/x-python",
   "name": "python",
   "nbconvert_exporter": "python",
   "pygments_lexer": "ipython3",
   "version": "3.10.4"
  },
  "orig_nbformat": 4,
  "vscode": {
   "interpreter": {
    "hash": "1e090bb39366b4e31aa2c6f9a4f5a7a56bf23b9e2a11fd6f2681e7f261c753ef"
   }
  }
 },
 "nbformat": 4,
 "nbformat_minor": 2
}
